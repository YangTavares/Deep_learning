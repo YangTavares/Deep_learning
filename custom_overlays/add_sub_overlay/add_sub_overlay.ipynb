{
 "cells": [
  {
   "cell_type": "code",
   "execution_count": 3,
   "metadata": {
    "collapsed": false,
    "scrolled": false
   },
   "outputs": [
    {
     "name": "stdout",
     "output_type": "stream",
     "text": [
      "add a: 7\n",
      "add b: 12\n",
      "add y: 19\n",
      "sub a: 12\n",
      "sub b: 7\n",
      "sub y: 5\n"
     ]
    }
   ],
   "source": [
    "\n",
    "from pynq import Overlay\n",
    "from pynq import MMIO\n",
    "\n",
    "ol = Overlay(\"/home/xilinx/jupyter_notebooks/add_sub_overlay/add_sub.bit\")\n",
    "ol.download()\n",
    "\n",
    "add_ip = MMIO(0x43C00000,0x10000)\n",
    "sub_ip = MMIO(0x43C10000,0x10000)\n",
    "\n",
    "#port a\n",
    "add_ip.write(0x10,7)\n",
    "print(\"add a:\",add_ip.read(0x10))\n",
    "#port b\n",
    "add_ip.write(0x18,12)\n",
    "print(\"add b:\",add_ip.read(0x18))\n",
    "#ap_start bit\n",
    "add_ip.write(0x00,1)\n",
    "#port y\n",
    "print(\"add y:\",add_ip.read(0x20))\n",
    "\n",
    "sub_ip.write(0x10,12)\n",
    "print(\"sub a:\",sub_ip.read(0x10))\n",
    "sub_ip.write(0x18,7)\n",
    "print(\"sub b:\",sub_ip.read(0x18))\n",
    "sub_ip.write(0x00,1)\n",
    "print(\"sub y:\",sub_ip.read(0x20))"
   ]
  },
  {
   "cell_type": "code",
   "execution_count": null,
   "metadata": {
    "collapsed": true
   },
   "outputs": [],
   "source": [
    "----------------------------ADD:\n",
    "\n",
    "//------------------------Address Info-------------------\n",
    "// 0x00 : Control signals\n",
    "//        bit 0  - ap_start (Read/Write/SC)\n",
    "//        bit 1  - ap_done (Read/COR)\n",
    "//        bit 2  - ap_idle (Read)\n",
    "//        bit 3  - ap_ready (Read)\n",
    "//        bit 7  - auto_restart (Read/Write)\n",
    "//        others - reserved\n",
    "// 0x04 : Global Interrupt Enable Register\n",
    "//        bit 0  - Global Interrupt Enable (Read/Write)\n",
    "//        others - reserved\n",
    "// 0x08 : IP Interrupt Enable Register (Read/Write)\n",
    "//        bit 0  - Channel 0 (ap_done)\n",
    "//        others - reserved\n",
    "// 0x0c : IP Interrupt Status Register (Read/TOW)\n",
    "//        bit 0  - Channel 0 (ap_done)\n",
    "//        others - reserved\n",
    "// 0x10 : Data signal of a\n",
    "//        bit 31~0 - a[31:0] (Read/Write)\n",
    "// 0x14 : reserved\n",
    "// 0x18 : Data signal of b\n",
    "//        bit 31~0 - b[31:0] (Read/Write)\n",
    "// 0x1c : reserved\n",
    "// 0x20 : Data signal of y\n",
    "//        bit 31~0 - y[31:0] (Read)\n",
    "// 0x24 : Control signal of y\n",
    "//        bit 0  - y_ap_vld (Read/COR)\n",
    "//        others - reserved\n",
    "// (SC = Self Clear, COR = Clear on Read, TOW = Toggle on Write, COH = Clear on Handshake)\n",
    "\n",
    "//------------------------Parameter----------------------\n",
    "\n",
    "----------------------------SUB:\n",
    "    \n",
    "    //------------------------Address Info-------------------\n",
    "// 0x00 : Control signals\n",
    "//        bit 0  - ap_start (Read/Write/SC)\n",
    "//        bit 1  - ap_done (Read/COR)\n",
    "//        bit 2  - ap_idle (Read)\n",
    "//        bit 3  - ap_ready (Read)\n",
    "//        bit 7  - auto_restart (Read/Write)\n",
    "//        others - reserved\n",
    "// 0x04 : Global Interrupt Enable Register\n",
    "//        bit 0  - Global Interrupt Enable (Read/Write)\n",
    "//        others - reserved\n",
    "// 0x08 : IP Interrupt Enable Register (Read/Write)\n",
    "//        bit 0  - Channel 0 (ap_done)\n",
    "//        others - reserved\n",
    "// 0x0c : IP Interrupt Status Register (Read/TOW)\n",
    "//        bit 0  - Channel 0 (ap_done)\n",
    "//        others - reserved\n",
    "// 0x10 : Data signal of a\n",
    "//        bit 31~0 - a[31:0] (Read/Write)\n",
    "// 0x14 : reserved\n",
    "// 0x18 : Data signal of b\n",
    "//        bit 31~0 - b[31:0] (Read/Write)\n",
    "// 0x1c : reserved\n",
    "// 0x20 : Data signal of y\n",
    "//        bit 31~0 - y[31:0] (Read)\n",
    "// 0x24 : Control signal of y\n",
    "//        bit 0  - y_ap_vld (Read/COR)\n",
    "//        others - reserved\n",
    "// (SC = Self Clear, COR = Clear on Read, TOW = Toggle on Write, COH = Clear on Handshake)\n",
    "\n",
    "//------------------------Parameter----------------------"
   ]
  }
 ],
 "metadata": {
  "kernelspec": {
   "display_name": "Python 3",
   "language": "python",
   "name": "python3"
  },
  "language_info": {
   "codemirror_mode": {
    "name": "ipython",
    "version": 3
   },
   "file_extension": ".py",
   "mimetype": "text/x-python",
   "name": "python",
   "nbconvert_exporter": "python",
   "pygments_lexer": "ipython3",
   "version": "3.4.3+"
  }
 },
 "nbformat": 4,
 "nbformat_minor": 1
}
